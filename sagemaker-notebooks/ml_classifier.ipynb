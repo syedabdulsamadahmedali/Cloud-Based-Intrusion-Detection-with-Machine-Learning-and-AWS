{
 "cells": [
  {
   "cell_type": "code",
   "execution_count": 26,
   "id": "599a99c4-17f7-49ab-be0b-2c9cb3b3dacf",
   "metadata": {},
   "outputs": [],
   "source": [
    "!pip install -q boto3 s3fs"
   ]
  },
  {
   "cell_type": "code",
   "execution_count": 28,
   "id": "21c632c4-2960-4242-985d-c4d8557f3a97",
   "metadata": {
    "editable": true,
    "slideshow": {
     "slide_type": ""
    },
    "tags": []
   },
   "outputs": [
    {
     "data": {
      "text/plain": [
       "['label_encoders.joblib']"
      ]
     },
     "execution_count": 28,
     "metadata": {},
     "output_type": "execute_result"
    }
   ],
   "source": [
    "import pandas as pd\n",
    "import numpy as np\n",
    "import boto3\n",
    "import joblib\n",
    "from sklearn.ensemble import RandomForestClassifier, IsolationForest\n",
    "from sklearn.preprocessing import StandardScaler, LabelEncoder\n",
    "\n",
    "# Load training data (assuming it's already in your SageMaker instance)\n",
    "train_data = pd.read_csv('CIC_UNSW_NB15_training-set.csv')\n",
    "train_data.drop(columns=['id'], inplace=True)\n",
    "train_data.dropna(inplace=True)\n",
    "train_data.drop_duplicates(inplace=True)\n",
    "\n",
    "# Encode categorical variables\n",
    "label_encoders = {}\n",
    "categorical_columns = train_data.select_dtypes(include=['object']).columns\n",
    "\n",
    "for col in categorical_columns:\n",
    "    le = LabelEncoder()\n",
    "    train_data[col] = train_data[col].astype(str)\n",
    "    le.fit(train_data[col])\n",
    "    train_data[col] = le.transform(train_data[col])\n",
    "    label_encoders[col] = le\n",
    "\n",
    "# Prepare features and labels\n",
    "X_train = train_data.drop(columns=['label'])\n",
    "y_train = train_data['label']\n",
    "\n",
    "scaler = StandardScaler()\n",
    "X_train_scaled = scaler.fit_transform(X_train)\n",
    "\n",
    "# Train models\n",
    "rf = RandomForestClassifier(random_state=42)\n",
    "rf.fit(X_train_scaled, y_train)\n",
    "\n",
    "iso_forest = IsolationForest(random_state=42)\n",
    "iso_forest.fit(X_train_scaled)\n",
    "\n",
    "# Save models and encoders\n",
    "joblib.dump(rf, 'rf_model.joblib')\n",
    "joblib.dump(iso_forest, 'iso_model.joblib')\n",
    "joblib.dump(scaler, 'scaler.joblib')\n",
    "joblib.dump(label_encoders, 'label_encoders.joblib')"
   ]
  },
  {
   "cell_type": "code",
   "execution_count": 30,
   "id": "21216c74-dc21-4840-8500-16799898c561",
   "metadata": {},
   "outputs": [],
   "source": [
    "s3 = boto3.client('s3')\n",
    "bucket = 'aws-cloudtrail-logs-258283632626-e2888416'\n",
    "s3.upload_file('rf_model.joblib', bucket, 'models/rf_model.joblib')\n",
    "s3.upload_file('iso_model.joblib', bucket, 'models/iso_model.joblib')\n",
    "s3.upload_file('scaler.joblib', bucket, 'models/scaler.joblib')\n",
    "s3.upload_file('label_encoders.joblib', bucket, 'models/label_encoders.joblib')"
   ]
  },
  {
   "cell_type": "code",
   "execution_count": null,
   "id": "0918a53c-8d8f-4260-81e8-fd7110972dfd",
   "metadata": {},
   "outputs": [],
   "source": []
  },
  {
   "cell_type": "code",
   "execution_count": null,
   "id": "b0c788e5-1d91-4b16-90c3-6468a5dc1f3f",
   "metadata": {},
   "outputs": [],
   "source": []
  }
 ],
 "metadata": {
  "kernelspec": {
   "display_name": "conda_python3",
   "language": "python",
   "name": "conda_python3"
  },
  "language_info": {
   "codemirror_mode": {
    "name": "ipython",
    "version": 3
   },
   "file_extension": ".py",
   "mimetype": "text/x-python",
   "name": "python",
   "nbconvert_exporter": "python",
   "pygments_lexer": "ipython3",
   "version": "3.10.16"
  }
 },
 "nbformat": 4,
 "nbformat_minor": 5
}
